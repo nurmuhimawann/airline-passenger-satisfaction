{
 "cells": [
  {
   "cell_type": "code",
   "execution_count": 36,
   "metadata": {},
   "outputs": [],
   "source": [
    "# import library\n",
    "import json\n",
    "import random\n",
    "import base64\n",
    "import requests\n",
    "import pandas as pd\n",
    "import tensorflow as tf"
   ]
  },
  {
   "cell_type": "code",
   "execution_count": 37,
   "metadata": {},
   "outputs": [
    {
     "name": "stdout",
     "output_type": "stream",
     "text": [
      "{'model_version_status': [{'state': 'AVAILABLE',\n",
      "                           'status': {'error_code': 'OK', 'error_message': ''},\n",
      "                           'version': '1682490330'}]}\n"
     ]
    }
   ],
   "source": [
    "# checking model\n",
    "from pprint import PrettyPrinter\n",
    "\n",
    "pp = PrettyPrinter()\n",
    "pp.pprint(requests.get(\"http://localhost:8080/v1/models/airline-passenger-satisfaction-model\").json())"
   ]
  },
  {
   "cell_type": "code",
   "execution_count": 38,
   "metadata": {},
   "outputs": [
    {
     "data": {
      "text/plain": [
       "{'gender': 'Male',\n",
       " 'customer_type': 'Loyal Customer',\n",
       " 'age': 41,\n",
       " 'type_of_travel': 'Business travel',\n",
       " 'class': 'Business',\n",
       " 'flight_distance': 2075,\n",
       " 'inflight_wifi_service': 4,\n",
       " 'departure_arrival_time_convenient': 4,\n",
       " 'ease_of_online_booking': 2,\n",
       " 'gate_location': 4,\n",
       " 'food_and_drink': 4,\n",
       " 'online_boarding': 4,\n",
       " 'seat_comfort': 4,\n",
       " 'inflight_entertainment': 5,\n",
       " 'onboard_service': 5,\n",
       " 'leg_room_service': 5,\n",
       " 'baggage_handling': 5,\n",
       " 'checkin_service': 3,\n",
       " 'inflight_service': 5,\n",
       " 'cleanliness': 5,\n",
       " 'departure_delay_in_minutes': 0,\n",
       " 'arrival_delay_in_minutes': 10.0}"
      ]
     },
     "execution_count": 38,
     "metadata": {},
     "output_type": "execute_result"
    }
   ],
   "source": [
    "# get data sample\n",
    "df = pd.read_csv('./data/airline_passenger_satisfaction.csv')\n",
    "\n",
    "X = df.columns[:22].values\n",
    "random = random.randint(0, len(X))\n",
    "values = df.values[random]\n",
    "\n",
    "inputs = {key: value for key, value in zip(X, values)}\n",
    "inputs\n"
   ]
  },
  {
   "cell_type": "code",
   "execution_count": 39,
   "metadata": {},
   "outputs": [],
   "source": [
    "# train set protobuf\n",
    "def string_feature(value):\n",
    "    return tf.train.Feature(\n",
    "        bytes_list=tf.train.BytesList(\n",
    "            value=[bytes(value, 'utf-8')]\n",
    "        ),\n",
    "    )\n",
    "\n",
    "def int_feature(value):\n",
    "    return tf.train.Feature(\n",
    "        int64_list=tf.train.Int64List(\n",
    "            value=[value]\n",
    "        ),\n",
    "    )\n",
    "\n",
    "def float_feature(value):\n",
    "    return tf.train.Feature(\n",
    "        float_list=tf.train.FloatList(\n",
    "            value=[value]\n",
    "        ),\n",
    "    )"
   ]
  },
  {
   "cell_type": "code",
   "execution_count": 40,
   "metadata": {},
   "outputs": [],
   "source": [
    "# input conversion to json for tf serving\n",
    "def prepare_json(inputs: dict):\n",
    "    feature_spec = dict()\n",
    "\n",
    "    for keys, values in inputs.items():\n",
    "        if isinstance(values, int):\n",
    "            feature_spec[keys] = int_feature(values)\n",
    "        elif isinstance(values, float):\n",
    "            feature_spec[keys] = float_feature(values)\n",
    "        elif isinstance(values, str):\n",
    "            feature_spec[keys] = string_feature(values)\n",
    "\n",
    "    example = tf.train.Example(\n",
    "        features=tf.train.Features(feature=feature_spec)\n",
    "    ).SerializeToString()\n",
    "\n",
    "    result = [{\n",
    "        'examples': {\n",
    "            'b64': base64.b64encode(example).decode()\n",
    "        }\n",
    "    }]\n",
    "\n",
    "    return json.dumps({\n",
    "        'signature_name': 'serving_default',\n",
    "        'instances': result,\n",
    "    })"
   ]
  },
  {
   "cell_type": "code",
   "execution_count": 41,
   "metadata": {},
   "outputs": [],
   "source": [
    "# function to predict data (request)\n",
    "def make_predictions(inputs):\n",
    "    response = requests.post(\n",
    "        'https://airline-passenger-satisfaction.up.railway.app/v1/models/airline-passenger-satisfaction-model:predict',\n",
    "        data=prepare_json(inputs)\n",
    "    )\n",
    "\n",
    "    predict = response.json()['predictions'][0][0]\n",
    "\n",
    "    return predict"
   ]
  },
  {
   "cell_type": "code",
   "execution_count": 47,
   "metadata": {},
   "outputs": [
    {
     "name": "stdout",
     "output_type": "stream",
     "text": [
      "{'gender': 'Male', 'customer_type': 'Loyal Customer', 'age': 41, 'type_of_travel': 'Business travel', 'class': 'Business', 'flight_distance': 2075, 'inflight_wifi_service': 4, 'departure_arrival_time_convenient': 4, 'ease_of_online_booking': 2, 'gate_location': 4, 'food_and_drink': 4, 'online_boarding': 4, 'seat_comfort': 4, 'inflight_entertainment': 5, 'onboard_service': 5, 'leg_room_service': 5, 'baggage_handling': 5, 'checkin_service': 3, 'inflight_service': 5, 'cleanliness': 5, 'departure_delay_in_minutes': 0, 'arrival_delay_in_minutes': 10.0}\n",
      "\n",
      "The result is Dissatisfied\n",
      "0.499811202\n"
     ]
    }
   ],
   "source": [
    "# try to predict\n",
    "predict = make_predictions(inputs)\n",
    "\n",
    "print(f'{inputs}\\n')\n",
    "print(f'The result is Satisfied' if predict > 0.6 else f'The result is Dissatisfied')\n",
    "print(predict)"
   ]
  }
 ],
 "metadata": {
  "kernelspec": {
   "display_name": "venv",
   "language": "python",
   "name": "python3"
  },
  "language_info": {
   "codemirror_mode": {
    "name": "ipython",
    "version": 3
   },
   "file_extension": ".py",
   "mimetype": "text/x-python",
   "name": "python",
   "nbconvert_exporter": "python",
   "pygments_lexer": "ipython3",
   "version": "3.9.13"
  },
  "orig_nbformat": 4
 },
 "nbformat": 4,
 "nbformat_minor": 2
}
